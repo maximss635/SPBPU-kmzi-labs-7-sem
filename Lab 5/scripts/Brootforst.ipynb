{
 "cells": [
  {
   "cell_type": "code",
   "execution_count": 3,
   "id": "assumed-basic",
   "metadata": {},
   "outputs": [],
   "source": [
    "from crypt_model import *\n",
    "from time import time\n",
    "import threading"
   ]
  },
  {
   "cell_type": "code",
   "execution_count": 4,
   "id": "quick-maintenance",
   "metadata": {},
   "outputs": [],
   "source": [
    "src_block = 0x128117f1\n",
    "crypted_block = 0x9a6ca34e"
   ]
  },
  {
   "cell_type": "code",
   "execution_count": 3,
   "id": "bibliographic-april",
   "metadata": {},
   "outputs": [],
   "source": [
    "def thread_entry(index_thread, key_from, key_to):\n",
    "    \n",
    "    thread_name = threading.current_thread().getName()\n",
    "\n",
    "    A, B = src_block, crypted_block\n",
    "    model = CryptModel(Params())\n",
    "    \n",
    "    key = key_from\n",
    "    while key <= key_to:\n",
    "        if model.convert_block(A, key) == B:\n",
    "            print('Good key: {}'.format(key))\n",
    "            break\n",
    "                \n",
    "        key += 1"
   ]
  },
  {
   "cell_type": "code",
   "execution_count": 6,
   "id": "blond-equivalent",
   "metadata": {},
   "outputs": [],
   "source": [
    "def start_thread(n_threads=5):\n",
    "    threads = []\n",
    "\n",
    "    keys_total = 2**32\n",
    "    keys_per_thread = keys_total // n_threads \n",
    "\n",
    "    for i in range(n_threads):\n",
    "        if i != n_threads - 1:\n",
    "            key_to = (i + 1) * keys_per_thread - 1\n",
    "        else:\n",
    "            key_to = keys_total - 1\n",
    "        \n",
    "        threads.append(threading.Thread(\n",
    "            target=thread_entry,\n",
    "            args = (i, \n",
    "                i * keys_per_thread, \n",
    "                key_to\n",
    "            )\n",
    "        ))\n",
    "\n",
    "    for thread in threads:\n",
    "        thread.start()\n",
    "        \n",
    "    for thread in threads:\n",
    "        thread.join()"
   ]
  },
  {
   "cell_type": "code",
   "execution_count": null,
   "id": "appreciated-abuse",
   "metadata": {},
   "outputs": [],
   "source": [
    "start_thread()"
   ]
  },
  {
   "cell_type": "code",
   "execution_count": null,
   "id": "manufactured-berry",
   "metadata": {},
   "outputs": [],
   "source": []
  },
  {
   "cell_type": "code",
   "execution_count": null,
   "id": "paperback-testament",
   "metadata": {},
   "outputs": [],
   "source": []
  },
  {
   "cell_type": "code",
   "execution_count": null,
   "id": "alike-tactics",
   "metadata": {},
   "outputs": [],
   "source": []
  },
  {
   "cell_type": "code",
   "execution_count": null,
   "id": "severe-cheese",
   "metadata": {},
   "outputs": [],
   "source": []
  },
  {
   "cell_type": "code",
   "execution_count": null,
   "id": "super-thousand",
   "metadata": {},
   "outputs": [],
   "source": []
  },
  {
   "cell_type": "code",
   "execution_count": null,
   "id": "royal-samba",
   "metadata": {},
   "outputs": [],
   "source": []
  },
  {
   "cell_type": "code",
   "execution_count": null,
   "id": "anticipated-communications",
   "metadata": {},
   "outputs": [],
   "source": []
  },
  {
   "cell_type": "code",
   "execution_count": null,
   "id": "adjustable-appraisal",
   "metadata": {},
   "outputs": [],
   "source": []
  },
  {
   "cell_type": "code",
   "execution_count": null,
   "id": "raising-rehabilitation",
   "metadata": {},
   "outputs": [],
   "source": []
  },
  {
   "cell_type": "code",
   "execution_count": null,
   "id": "comic-vocabulary",
   "metadata": {},
   "outputs": [],
   "source": []
  }
 ],
 "metadata": {
  "kernelspec": {
   "display_name": "Python 3",
   "language": "python",
   "name": "python3"
  },
  "language_info": {
   "codemirror_mode": {
    "name": "ipython",
    "version": 3
   },
   "file_extension": ".py",
   "mimetype": "text/x-python",
   "name": "python",
   "nbconvert_exporter": "python",
   "pygments_lexer": "ipython3",
   "version": "3.9.4"
  }
 },
 "nbformat": 4,
 "nbformat_minor": 5
}
